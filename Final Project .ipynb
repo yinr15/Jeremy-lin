{
 "cells": [
  {
   "cell_type": "code",
   "execution_count": 8,
   "metadata": {},
   "outputs": [],
   "source": [
    "import pandas as pd\n",
    "import seaborn as sns\n",
    "import matplotlib.pyplot as plt\n",
    "from sklearn.cluster import KMeans"
   ]
  },
  {
   "cell_type": "code",
   "execution_count": null,
   "metadata": {},
   "outputs": [],
   "source": [
    "1.\tWhat is your project topic?  Briefly summarize what you’re trying to accomplish\n",
    "There are two main topics for this final project. In the first half, I will be comparing how well can Jeremy Lin fit into the NBA\n",
    "given his stats last season played in CBA. In the second half, I will be building some models to predict the win rate \n",
    "in 2019-2020 CBA playoff by using the Jermey Lin's overall performance in the regular season\n",
    "\n",
    "2.\tWhat were the “results” of your work?  (What does your software package “do”, or what were the relevant evaluation metrics for your model, \n",
    "or what were the relationships between variables you were exploring, etc.)\n",
    "The conclusion for the first half of the project is really fascinating. According to my k-means clustering analysis and based on \n",
    "the elbow method, I have divided my dataset into 5 random clusters. The result indicates that we can compare Jeremy Lin\n",
    "to some PG that we all know like Derek Fisher and Zach LaVine. In the second half of the project, due to the limited data \n",
    "in my dataset, I conducted a random forest and logistic regression on the cba data. Although the accuracy is super low on both\n",
    "methods, the top three important features for Jeremy Lin that have a high correlation with NBA are Steal, FT and FGA. \n",
    "\n",
    "3.\tWhat would the next logical step be in this exploration?\n",
    "The dataset in the first half of the project needs to be further updated because it has all the players from 1950 to 2017.\n",
    "In order to make it easier, I only selected the players who were drafted after 2010 season. A logical step here would be finding\n",
    "players from 2017 to the current season to make it relavant. Also, Jeremy Lin could play multiple positions, but not limited\n",
    "to PG, so I could potentially use more players in the cluster analysis. \n",
    "\n",
    "4.\tWhat did you find difficult to do during the project?\n",
    "The difficulty for this project defnitely falls into the category of limited data. In the second half of the project, I had\n",
    "to manually input the data for each game because China does not have an official website just like BasektballReference.com \n",
    "that has a well-developed place to store all the information. This process took me a long time to finish. In adition to that,\n",
    "It's also challenging for me to find the stats for the players who played for NBA but later on joined CBA. The reason is the same as before.\n",
    "\n",
    "5.\tWhat topic did you wish you were more knowledgeable about/what would have been handy to know while you were doing the project?\n",
    "I would wish to have more knowledge about how to implement the ELO score in Python/R as I believe it is a great topic \n",
    "to do for a project to predict a team's winning probability. \n"
   ]
  },
  {
   "cell_type": "code",
   "execution_count": 10,
   "metadata": {},
   "outputs": [],
   "source": [
    "#import the df \n",
    "#Part 1 K-means clustering analysis \n",
    "df = pd.read_csv (r'C:\\Users\\yinr1\\Desktop\\Sports Analytics\\Final_nba1.csv') "
   ]
  },
  {
   "cell_type": "code",
   "execution_count": 11,
   "metadata": {},
   "outputs": [
    {
     "data": {
      "text/html": [
       "<div>\n",
       "<style scoped>\n",
       "    .dataframe tbody tr th:only-of-type {\n",
       "        vertical-align: middle;\n",
       "    }\n",
       "\n",
       "    .dataframe tbody tr th {\n",
       "        vertical-align: top;\n",
       "    }\n",
       "\n",
       "    .dataframe thead th {\n",
       "        text-align: right;\n",
       "    }\n",
       "</style>\n",
       "<table border=\"1\" class=\"dataframe\">\n",
       "  <thead>\n",
       "    <tr style=\"text-align: right;\">\n",
       "      <th></th>\n",
       "      <th>Player</th>\n",
       "      <th>PTS</th>\n",
       "      <th>TRB</th>\n",
       "      <th>AST</th>\n",
       "      <th>FGP</th>\n",
       "      <th>X3</th>\n",
       "      <th>FTP</th>\n",
       "      <th>STL</th>\n",
       "      <th>TOV</th>\n",
       "      <th>BLK</th>\n",
       "    </tr>\n",
       "  </thead>\n",
       "  <tbody>\n",
       "    <tr>\n",
       "      <th>0</th>\n",
       "      <td>A.J. Price</td>\n",
       "      <td>5.530343</td>\n",
       "      <td>1.374025</td>\n",
       "      <td>2.064368</td>\n",
       "      <td>0.348028</td>\n",
       "      <td>0.239153</td>\n",
       "      <td>0.722427</td>\n",
       "      <td>0.397556</td>\n",
       "      <td>0.746855</td>\n",
       "      <td>0.021457</td>\n",
       "    </tr>\n",
       "    <tr>\n",
       "      <th>1</th>\n",
       "      <td>Aaron Brooks</td>\n",
       "      <td>9.193938</td>\n",
       "      <td>1.587726</td>\n",
       "      <td>3.123486</td>\n",
       "      <td>0.402260</td>\n",
       "      <td>0.355422</td>\n",
       "      <td>0.834051</td>\n",
       "      <td>0.585177</td>\n",
       "      <td>1.561181</td>\n",
       "      <td>0.162893</td>\n",
       "    </tr>\n",
       "    <tr>\n",
       "      <th>2</th>\n",
       "      <td>Acie Law</td>\n",
       "      <td>4.029361</td>\n",
       "      <td>0.838131</td>\n",
       "      <td>1.248065</td>\n",
       "      <td>0.421305</td>\n",
       "      <td>0.192262</td>\n",
       "      <td>0.752433</td>\n",
       "      <td>0.536944</td>\n",
       "      <td>0.709201</td>\n",
       "      <td>0.021368</td>\n",
       "    </tr>\n",
       "    <tr>\n",
       "      <th>3</th>\n",
       "      <td>Allen Iverson*</td>\n",
       "      <td>12.333333</td>\n",
       "      <td>1.333333</td>\n",
       "      <td>3.666667</td>\n",
       "      <td>0.576923</td>\n",
       "      <td>1.000000</td>\n",
       "      <td>0.500000</td>\n",
       "      <td>0.333333</td>\n",
       "      <td>2.333333</td>\n",
       "      <td>0.000000</td>\n",
       "    </tr>\n",
       "    <tr>\n",
       "      <th>4</th>\n",
       "      <td>Andre Miller</td>\n",
       "      <td>6.817064</td>\n",
       "      <td>2.234939</td>\n",
       "      <td>4.002147</td>\n",
       "      <td>0.504695</td>\n",
       "      <td>0.209487</td>\n",
       "      <td>0.778536</td>\n",
       "      <td>0.666249</td>\n",
       "      <td>1.510222</td>\n",
       "      <td>0.070964</td>\n",
       "    </tr>\n",
       "  </tbody>\n",
       "</table>\n",
       "</div>"
      ],
      "text/plain": [
       "           Player        PTS       TRB       AST       FGP        X3  \\\n",
       "0      A.J. Price   5.530343  1.374025  2.064368  0.348028  0.239153   \n",
       "1    Aaron Brooks   9.193938  1.587726  3.123486  0.402260  0.355422   \n",
       "2        Acie Law   4.029361  0.838131  1.248065  0.421305  0.192262   \n",
       "3  Allen Iverson*  12.333333  1.333333  3.666667  0.576923  1.000000   \n",
       "4    Andre Miller   6.817064  2.234939  4.002147  0.504695  0.209487   \n",
       "\n",
       "        FTP       STL       TOV       BLK  \n",
       "0  0.722427  0.397556  0.746855  0.021457  \n",
       "1  0.834051  0.585177  1.561181  0.162893  \n",
       "2  0.752433  0.536944  0.709201  0.021368  \n",
       "3  0.500000  0.333333  2.333333  0.000000  \n",
       "4  0.778536  0.666249  1.510222  0.070964  "
      ]
     },
     "execution_count": 11,
     "metadata": {},
     "output_type": "execute_result"
    }
   ],
   "source": [
    "#examine the top 5 values\n",
    "df.head()"
   ]
  },
  {
   "cell_type": "code",
   "execution_count": 25,
   "metadata": {},
   "outputs": [],
   "source": [
    "#create a row for Jeremy Lin's data based on the prediction in R\n",
    "#however, we could not retrieve any information in terms of Jermey's Steal, Turnover and Block. Therefore, I decide to \n",
    "# multipy 0.6 on his Steal stats in cba average, 1.2 on Turnover, and 0.6 on Block \n",
    "df2 = pd.DataFrame([['Jermey Lin',9.222329,2.606221,3.069829,0.42475,0.33153,0.82665,1.2571,4,0.242857]],\n",
    "                    columns=['Player','PTS','TRB','AST','FGP','X3','FTP','STL','TOV','BLK'])\n",
    "\n",
    "#concat these 2 dfs together\n",
    "df3=pd.concat([df2,df],ignore_index=True)\n"
   ]
  },
  {
   "cell_type": "code",
   "execution_count": 32,
   "metadata": {},
   "outputs": [
    {
     "data": {
      "text/html": [
       "<div>\n",
       "<style scoped>\n",
       "    .dataframe tbody tr th:only-of-type {\n",
       "        vertical-align: middle;\n",
       "    }\n",
       "\n",
       "    .dataframe tbody tr th {\n",
       "        vertical-align: top;\n",
       "    }\n",
       "\n",
       "    .dataframe thead th {\n",
       "        text-align: right;\n",
       "    }\n",
       "</style>\n",
       "<table border=\"1\" class=\"dataframe\">\n",
       "  <thead>\n",
       "    <tr style=\"text-align: right;\">\n",
       "      <th></th>\n",
       "      <th>Player</th>\n",
       "      <th>PTS</th>\n",
       "      <th>TRB</th>\n",
       "      <th>AST</th>\n",
       "      <th>FGP</th>\n",
       "      <th>X3</th>\n",
       "      <th>FTP</th>\n",
       "      <th>STL</th>\n",
       "      <th>TOV</th>\n",
       "      <th>BLK</th>\n",
       "    </tr>\n",
       "  </thead>\n",
       "  <tbody>\n",
       "    <tr>\n",
       "      <th>0</th>\n",
       "      <td>Jermey Lin</td>\n",
       "      <td>9.222329</td>\n",
       "      <td>2.606221</td>\n",
       "      <td>3.069829</td>\n",
       "      <td>0.424750</td>\n",
       "      <td>0.331530</td>\n",
       "      <td>0.826650</td>\n",
       "      <td>1.257100</td>\n",
       "      <td>4.000000</td>\n",
       "      <td>0.242857</td>\n",
       "    </tr>\n",
       "    <tr>\n",
       "      <th>1</th>\n",
       "      <td>A.J. Price</td>\n",
       "      <td>5.530343</td>\n",
       "      <td>1.374025</td>\n",
       "      <td>2.064368</td>\n",
       "      <td>0.348028</td>\n",
       "      <td>0.239153</td>\n",
       "      <td>0.722427</td>\n",
       "      <td>0.397556</td>\n",
       "      <td>0.746855</td>\n",
       "      <td>0.021457</td>\n",
       "    </tr>\n",
       "    <tr>\n",
       "      <th>2</th>\n",
       "      <td>Aaron Brooks</td>\n",
       "      <td>9.193938</td>\n",
       "      <td>1.587726</td>\n",
       "      <td>3.123486</td>\n",
       "      <td>0.402260</td>\n",
       "      <td>0.355422</td>\n",
       "      <td>0.834051</td>\n",
       "      <td>0.585177</td>\n",
       "      <td>1.561181</td>\n",
       "      <td>0.162893</td>\n",
       "    </tr>\n",
       "    <tr>\n",
       "      <th>3</th>\n",
       "      <td>Acie Law</td>\n",
       "      <td>4.029361</td>\n",
       "      <td>0.838131</td>\n",
       "      <td>1.248065</td>\n",
       "      <td>0.421305</td>\n",
       "      <td>0.192262</td>\n",
       "      <td>0.752433</td>\n",
       "      <td>0.536944</td>\n",
       "      <td>0.709201</td>\n",
       "      <td>0.021368</td>\n",
       "    </tr>\n",
       "    <tr>\n",
       "      <th>4</th>\n",
       "      <td>Allen Iverson*</td>\n",
       "      <td>12.333333</td>\n",
       "      <td>1.333333</td>\n",
       "      <td>3.666667</td>\n",
       "      <td>0.576923</td>\n",
       "      <td>1.000000</td>\n",
       "      <td>0.500000</td>\n",
       "      <td>0.333333</td>\n",
       "      <td>2.333333</td>\n",
       "      <td>0.000000</td>\n",
       "    </tr>\n",
       "  </tbody>\n",
       "</table>\n",
       "</div>"
      ],
      "text/plain": [
       "           Player        PTS       TRB       AST       FGP        X3  \\\n",
       "0      Jermey Lin   9.222329  2.606221  3.069829  0.424750  0.331530   \n",
       "1      A.J. Price   5.530343  1.374025  2.064368  0.348028  0.239153   \n",
       "2    Aaron Brooks   9.193938  1.587726  3.123486  0.402260  0.355422   \n",
       "3        Acie Law   4.029361  0.838131  1.248065  0.421305  0.192262   \n",
       "4  Allen Iverson*  12.333333  1.333333  3.666667  0.576923  1.000000   \n",
       "\n",
       "        FTP       STL       TOV       BLK  \n",
       "0  0.826650  1.257100  4.000000  0.242857  \n",
       "1  0.722427  0.397556  0.746855  0.021457  \n",
       "2  0.834051  0.585177  1.561181  0.162893  \n",
       "3  0.752433  0.536944  0.709201  0.021368  \n",
       "4  0.500000  0.333333  2.333333  0.000000  "
      ]
     },
     "execution_count": 32,
     "metadata": {},
     "output_type": "execute_result"
    }
   ],
   "source": [
    "df3.head()"
   ]
  },
  {
   "cell_type": "code",
   "execution_count": 49,
   "metadata": {},
   "outputs": [
    {
     "data": {
      "image/png": "[encoded data removed]",
      "text/plain": [
       "<Figure size 432x288 with 1 Axes>"
      ]
     },
     "metadata": {
      "needs_background": "light"
     },
     "output_type": "display_data"
    }
   ],
   "source": [
    "#decide how many clusters would be ideal in our scenario \n",
    "sum_of_squared_distances = []\n",
    "num = range(1,15)\n",
    "for k in num:\n",
    "    k_means = KMeans(n_clusters=k)\n",
    "    model = k_means.fit(clusters)\n",
    "    sum_of_squared_distances.append(k_means.inertia_)\n",
    "    \n",
    "plt.plot(K, sum_of_squared_distances, 'bx-')\n",
    "plt.xlabel('k')\n",
    "plt.ylabel('sum_of_squared_distances')\n",
    "plt.title('elbow method for optimal k')\n",
    "plt.show()"
   ]
  },
  {
   "cell_type": "code",
   "execution_count": 70,
   "metadata": {},
   "outputs": [
    {
     "data": {
      "text/plain": [
       "array([4, 1, 4, 1, 2, 4, 3, 1, 1, 1, 3, 4, 1, 4, 4, 2, 3, 1, 4, 3, 1, 2,\n",
       "       2, 1, 1, 3, 4, 1, 3, 1, 1, 3, 1, 1, 0, 1, 0, 3, 3, 1, 1, 1, 1, 2,\n",
       "       4, 0, 1, 1, 1, 2, 1, 1, 1, 4, 3, 2, 4, 2, 0, 2, 3, 1, 1, 1, 3, 1,\n",
       "       1, 4, 2, 3, 2, 2, 0, 1, 3, 1, 3, 3, 1, 1, 2, 0, 2, 2, 4, 4, 4, 3,\n",
       "       0, 4, 1, 4, 1, 2, 2, 0, 3, 1, 2, 3, 4, 1, 1, 1, 2, 3, 2, 1, 1, 4,\n",
       "       3, 4, 1, 3, 1, 0, 1, 4, 2, 4, 1, 3, 4, 3, 3, 2, 3, 3, 3, 1, 3, 0,\n",
       "       1, 3, 1, 1, 1, 2, 0, 4, 1, 3, 4, 1, 3, 1, 2, 4, 1, 3, 1, 1, 1, 4,\n",
       "       1, 4, 3, 4, 2, 4, 2, 1, 1, 2, 3, 4, 1, 1, 1, 4, 1, 4, 4, 1, 1, 1,\n",
       "       4, 2, 4, 4, 1, 1, 2, 2, 2, 2, 4, 3, 1, 3, 0, 3, 4, 1, 4, 1, 1, 1,\n",
       "       4, 4, 3, 1, 0, 4, 2, 1, 4, 4, 1, 4, 1, 2, 2, 3, 3, 4, 2, 1, 2, 4,\n",
       "       3, 1, 2, 1, 1, 4, 3, 3, 3, 4, 1, 4])"
      ]
     },
     "execution_count": 70,
     "metadata": {},
     "output_type": "execute_result"
    }
   ],
   "source": [
    "#looks like 5 is a good number to use \n",
    "kmeans_model = KMeans(n_clusters=5, random_state=1)\n",
    "clusters = df3._get_numeric_data().dropna(axis=1)\n",
    "kmeans_model.fit(clusters)\n",
    "labels = kmeans_model.labels_\n",
    "labels"
   ]
  },
  {
   "cell_type": "code",
   "execution_count": 71,
   "metadata": {},
   "outputs": [
    {
     "data": {
      "text/html": [
       "<div>\n",
       "<style scoped>\n",
       "    .dataframe tbody tr th:only-of-type {\n",
       "        vertical-align: middle;\n",
       "    }\n",
       "\n",
       "    .dataframe tbody tr th {\n",
       "        vertical-align: top;\n",
       "    }\n",
       "\n",
       "    .dataframe thead th {\n",
       "        text-align: right;\n",
       "    }\n",
       "</style>\n",
       "<table border=\"1\" class=\"dataframe\">\n",
       "  <thead>\n",
       "    <tr style=\"text-align: right;\">\n",
       "      <th></th>\n",
       "      <th>Player</th>\n",
       "      <th>PTS</th>\n",
       "      <th>TRB</th>\n",
       "      <th>AST</th>\n",
       "      <th>FGP</th>\n",
       "      <th>X3</th>\n",
       "      <th>FTP</th>\n",
       "      <th>STL</th>\n",
       "      <th>TOV</th>\n",
       "      <th>BLK</th>\n",
       "      <th>clusters</th>\n",
       "    </tr>\n",
       "  </thead>\n",
       "  <tbody>\n",
       "    <tr>\n",
       "      <th>0</th>\n",
       "      <td>Jermey Lin</td>\n",
       "      <td>9.222329</td>\n",
       "      <td>2.606221</td>\n",
       "      <td>3.069829</td>\n",
       "      <td>0.424750</td>\n",
       "      <td>0.331530</td>\n",
       "      <td>0.826650</td>\n",
       "      <td>1.257100</td>\n",
       "      <td>4.000000</td>\n",
       "      <td>0.242857</td>\n",
       "      <td>4</td>\n",
       "    </tr>\n",
       "    <tr>\n",
       "      <th>1</th>\n",
       "      <td>A.J. Price</td>\n",
       "      <td>5.530343</td>\n",
       "      <td>1.374025</td>\n",
       "      <td>2.064368</td>\n",
       "      <td>0.348028</td>\n",
       "      <td>0.239153</td>\n",
       "      <td>0.722427</td>\n",
       "      <td>0.397556</td>\n",
       "      <td>0.746855</td>\n",
       "      <td>0.021457</td>\n",
       "      <td>1</td>\n",
       "    </tr>\n",
       "    <tr>\n",
       "      <th>2</th>\n",
       "      <td>Aaron Brooks</td>\n",
       "      <td>9.193938</td>\n",
       "      <td>1.587726</td>\n",
       "      <td>3.123486</td>\n",
       "      <td>0.402260</td>\n",
       "      <td>0.355422</td>\n",
       "      <td>0.834051</td>\n",
       "      <td>0.585177</td>\n",
       "      <td>1.561181</td>\n",
       "      <td>0.162893</td>\n",
       "      <td>4</td>\n",
       "    </tr>\n",
       "    <tr>\n",
       "      <th>3</th>\n",
       "      <td>Acie Law</td>\n",
       "      <td>4.029361</td>\n",
       "      <td>0.838131</td>\n",
       "      <td>1.248065</td>\n",
       "      <td>0.421305</td>\n",
       "      <td>0.192262</td>\n",
       "      <td>0.752433</td>\n",
       "      <td>0.536944</td>\n",
       "      <td>0.709201</td>\n",
       "      <td>0.021368</td>\n",
       "      <td>1</td>\n",
       "    </tr>\n",
       "    <tr>\n",
       "      <th>4</th>\n",
       "      <td>Allen Iverson*</td>\n",
       "      <td>12.333333</td>\n",
       "      <td>1.333333</td>\n",
       "      <td>3.666667</td>\n",
       "      <td>0.576923</td>\n",
       "      <td>1.000000</td>\n",
       "      <td>0.500000</td>\n",
       "      <td>0.333333</td>\n",
       "      <td>2.333333</td>\n",
       "      <td>0.000000</td>\n",
       "      <td>2</td>\n",
       "    </tr>\n",
       "  </tbody>\n",
       "</table>\n",
       "</div>"
      ],
      "text/plain": [
       "           Player        PTS       TRB       AST       FGP        X3  \\\n",
       "0      Jermey Lin   9.222329  2.606221  3.069829  0.424750  0.331530   \n",
       "1      A.J. Price   5.530343  1.374025  2.064368  0.348028  0.239153   \n",
       "2    Aaron Brooks   9.193938  1.587726  3.123486  0.402260  0.355422   \n",
       "3        Acie Law   4.029361  0.838131  1.248065  0.421305  0.192262   \n",
       "4  Allen Iverson*  12.333333  1.333333  3.666667  0.576923  1.000000   \n",
       "\n",
       "        FTP       STL       TOV       BLK  clusters  \n",
       "0  0.826650  1.257100  4.000000  0.242857         4  \n",
       "1  0.722427  0.397556  0.746855  0.021457         1  \n",
       "2  0.834051  0.585177  1.561181  0.162893         4  \n",
       "3  0.752433  0.536944  0.709201  0.021368         1  \n",
       "4  0.500000  0.333333  2.333333  0.000000         2  "
      ]
     },
     "execution_count": 71,
     "metadata": {},
     "output_type": "execute_result"
    }
   ],
   "source": [
    "#nice now we get the different clusters. Time to combine the clusters into our original df\n",
    "temp = pd.DataFrame(data=labels, columns=[\"clusters\"])\n",
    "final_df = pd.concat([df3,temp],axis=1)\n",
    "final_df.head()"
   ]
  },
  {
   "cell_type": "code",
   "execution_count": 75,
   "metadata": {},
   "outputs": [
    {
     "data": {
      "text/html": [
       "<div>\n",
       "<style scoped>\n",
       "    .dataframe tbody tr th:only-of-type {\n",
       "        vertical-align: middle;\n",
       "    }\n",
       "\n",
       "    .dataframe tbody tr th {\n",
       "        vertical-align: top;\n",
       "    }\n",
       "\n",
       "    .dataframe thead th {\n",
       "        text-align: right;\n",
       "    }\n",
       "</style>\n",
       "<table border=\"1\" class=\"dataframe\">\n",
       "  <thead>\n",
       "    <tr style=\"text-align: right;\">\n",
       "      <th></th>\n",
       "      <th>Player</th>\n",
       "      <th>PTS</th>\n",
       "      <th>TRB</th>\n",
       "      <th>AST</th>\n",
       "      <th>FGP</th>\n",
       "      <th>X3</th>\n",
       "      <th>FTP</th>\n",
       "      <th>STL</th>\n",
       "      <th>TOV</th>\n",
       "      <th>BLK</th>\n",
       "      <th>clusters</th>\n",
       "    </tr>\n",
       "  </thead>\n",
       "  <tbody>\n",
       "    <tr>\n",
       "      <th>0</th>\n",
       "      <td>Jermey Lin</td>\n",
       "      <td>9.222329</td>\n",
       "      <td>2.606221</td>\n",
       "      <td>3.069829</td>\n",
       "      <td>0.424750</td>\n",
       "      <td>0.331530</td>\n",
       "      <td>0.826650</td>\n",
       "      <td>1.257100</td>\n",
       "      <td>4.000000</td>\n",
       "      <td>0.242857</td>\n",
       "      <td>4</td>\n",
       "    </tr>\n",
       "    <tr>\n",
       "      <th>2</th>\n",
       "      <td>Aaron Brooks</td>\n",
       "      <td>9.193938</td>\n",
       "      <td>1.587726</td>\n",
       "      <td>3.123486</td>\n",
       "      <td>0.402260</td>\n",
       "      <td>0.355422</td>\n",
       "      <td>0.834051</td>\n",
       "      <td>0.585177</td>\n",
       "      <td>1.561181</td>\n",
       "      <td>0.162893</td>\n",
       "      <td>4</td>\n",
       "    </tr>\n",
       "    <tr>\n",
       "      <th>5</th>\n",
       "      <td>Andre Miller</td>\n",
       "      <td>6.817064</td>\n",
       "      <td>2.234939</td>\n",
       "      <td>4.002147</td>\n",
       "      <td>0.504695</td>\n",
       "      <td>0.209487</td>\n",
       "      <td>0.778536</td>\n",
       "      <td>0.666249</td>\n",
       "      <td>1.510222</td>\n",
       "      <td>0.070964</td>\n",
       "      <td>4</td>\n",
       "    </tr>\n",
       "    <tr>\n",
       "      <th>11</th>\n",
       "      <td>Archie Goodwin</td>\n",
       "      <td>8.859649</td>\n",
       "      <td>2.491228</td>\n",
       "      <td>2.070175</td>\n",
       "      <td>0.417062</td>\n",
       "      <td>0.232323</td>\n",
       "      <td>0.673575</td>\n",
       "      <td>0.473684</td>\n",
       "      <td>1.754386</td>\n",
       "      <td>0.228070</td>\n",
       "      <td>4</td>\n",
       "    </tr>\n",
       "    <tr>\n",
       "      <th>13</th>\n",
       "      <td>Austin Rivers</td>\n",
       "      <td>7.389360</td>\n",
       "      <td>1.959173</td>\n",
       "      <td>1.988689</td>\n",
       "      <td>0.416035</td>\n",
       "      <td>0.336139</td>\n",
       "      <td>0.608828</td>\n",
       "      <td>0.691941</td>\n",
       "      <td>0.984800</td>\n",
       "      <td>0.150583</td>\n",
       "      <td>4</td>\n",
       "    </tr>\n",
       "  </tbody>\n",
       "</table>\n",
       "</div>"
      ],
      "text/plain": [
       "            Player       PTS       TRB       AST       FGP        X3  \\\n",
       "0       Jermey Lin  9.222329  2.606221  3.069829  0.424750  0.331530   \n",
       "2     Aaron Brooks  9.193938  1.587726  3.123486  0.402260  0.355422   \n",
       "5     Andre Miller  6.817064  2.234939  4.002147  0.504695  0.209487   \n",
       "11  Archie Goodwin  8.859649  2.491228  2.070175  0.417062  0.232323   \n",
       "13   Austin Rivers  7.389360  1.959173  1.988689  0.416035  0.336139   \n",
       "\n",
       "         FTP       STL       TOV       BLK  clusters  \n",
       "0   0.826650  1.257100  4.000000  0.242857         4  \n",
       "2   0.834051  0.585177  1.561181  0.162893         4  \n",
       "5   0.778536  0.666249  1.510222  0.070964         4  \n",
       "11  0.673575  0.473684  1.754386  0.228070         4  \n",
       "13  0.608828  0.691941  0.984800  0.150583         4  "
      ]
     },
     "execution_count": 75,
     "metadata": {},
     "output_type": "execute_result"
    }
   ],
   "source": [
    "#now we want to see who is in cluster 4 like Jermey Lin \n",
    "final_df.query('clusters==4').head()"
   ]
  },
  {
   "cell_type": "code",
   "execution_count": 78,
   "metadata": {},
   "outputs": [],
   "source": [
    "#Part 2 Predicting CBA's playoff winrate\n",
    "lin = pd.read_excel (r'C:\\Users\\yinr1\\Desktop\\Sports Analytics\\Jeremy Lin.xlsx', sheet_name='lin')\n",
    "lin"
   ]
  },
  {
   "cell_type": "code",
   "execution_count": 84,
   "metadata": {},
   "outputs": [
    {
     "data": {
      "text/html": [
       "<div>\n",
       "<style scoped>\n",
       "    .dataframe tbody tr th:only-of-type {\n",
       "        vertical-align: middle;\n",
       "    }\n",
       "\n",
       "    .dataframe tbody tr th {\n",
       "        vertical-align: top;\n",
       "    }\n",
       "\n",
       "    .dataframe thead th {\n",
       "        text-align: right;\n",
       "    }\n",
       "</style>\n",
       "<table border=\"1\" class=\"dataframe\">\n",
       "  <thead>\n",
       "    <tr style=\"text-align: right;\">\n",
       "      <th></th>\n",
       "      <th>Game</th>\n",
       "      <th>PTS</th>\n",
       "      <th>Rebound</th>\n",
       "      <th>Assist</th>\n",
       "      <th>FG</th>\n",
       "      <th>FGA</th>\n",
       "      <th>3P</th>\n",
       "      <th>3PA</th>\n",
       "      <th>FT</th>\n",
       "      <th>FTA</th>\n",
       "      <th>ST</th>\n",
       "      <th>TOV</th>\n",
       "      <th>BLK</th>\n",
       "      <th>PF</th>\n",
       "      <th>W</th>\n",
       "      <th>PF.1</th>\n",
       "      <th>covid</th>\n",
       "    </tr>\n",
       "  </thead>\n",
       "  <tbody>\n",
       "    <tr>\n",
       "      <th>0</th>\n",
       "      <td>1</td>\n",
       "      <td>25</td>\n",
       "      <td>6</td>\n",
       "      <td>9</td>\n",
       "      <td>7</td>\n",
       "      <td>18</td>\n",
       "      <td>0</td>\n",
       "      <td>5</td>\n",
       "      <td>11</td>\n",
       "      <td>12</td>\n",
       "      <td>2</td>\n",
       "      <td>4</td>\n",
       "      <td>0</td>\n",
       "      <td>4</td>\n",
       "      <td>1</td>\n",
       "      <td>0</td>\n",
       "      <td>0</td>\n",
       "    </tr>\n",
       "    <tr>\n",
       "      <th>1</th>\n",
       "      <td>2</td>\n",
       "      <td>24</td>\n",
       "      <td>8</td>\n",
       "      <td>6</td>\n",
       "      <td>6</td>\n",
       "      <td>16</td>\n",
       "      <td>2</td>\n",
       "      <td>5</td>\n",
       "      <td>10</td>\n",
       "      <td>12</td>\n",
       "      <td>1</td>\n",
       "      <td>3</td>\n",
       "      <td>0</td>\n",
       "      <td>3</td>\n",
       "      <td>1</td>\n",
       "      <td>0</td>\n",
       "      <td>0</td>\n",
       "    </tr>\n",
       "    <tr>\n",
       "      <th>2</th>\n",
       "      <td>3</td>\n",
       "      <td>26</td>\n",
       "      <td>7</td>\n",
       "      <td>4</td>\n",
       "      <td>12</td>\n",
       "      <td>19</td>\n",
       "      <td>0</td>\n",
       "      <td>2</td>\n",
       "      <td>2</td>\n",
       "      <td>4</td>\n",
       "      <td>3</td>\n",
       "      <td>5</td>\n",
       "      <td>1</td>\n",
       "      <td>4</td>\n",
       "      <td>1</td>\n",
       "      <td>0</td>\n",
       "      <td>0</td>\n",
       "    </tr>\n",
       "    <tr>\n",
       "      <th>3</th>\n",
       "      <td>4</td>\n",
       "      <td>27</td>\n",
       "      <td>7</td>\n",
       "      <td>6</td>\n",
       "      <td>8</td>\n",
       "      <td>20</td>\n",
       "      <td>0</td>\n",
       "      <td>3</td>\n",
       "      <td>11</td>\n",
       "      <td>13</td>\n",
       "      <td>1</td>\n",
       "      <td>5</td>\n",
       "      <td>0</td>\n",
       "      <td>4</td>\n",
       "      <td>1</td>\n",
       "      <td>0</td>\n",
       "      <td>0</td>\n",
       "    </tr>\n",
       "    <tr>\n",
       "      <th>4</th>\n",
       "      <td>5</td>\n",
       "      <td>28</td>\n",
       "      <td>5</td>\n",
       "      <td>9</td>\n",
       "      <td>8</td>\n",
       "      <td>19</td>\n",
       "      <td>4</td>\n",
       "      <td>10</td>\n",
       "      <td>8</td>\n",
       "      <td>8</td>\n",
       "      <td>4</td>\n",
       "      <td>4</td>\n",
       "      <td>0</td>\n",
       "      <td>2</td>\n",
       "      <td>0</td>\n",
       "      <td>0</td>\n",
       "      <td>0</td>\n",
       "    </tr>\n",
       "  </tbody>\n",
       "</table>\n",
       "</div>"
      ],
      "text/plain": [
       "   Game  PTS  Rebound   Assist   FG  FGA  3P  3PA  FT  FTA  ST  TOV  BLK  PF  \\\n",
       "0     1   25         6        9   7   18   0    5  11   12   2    4    0   4   \n",
       "1     2   24         8        6   6   16   2    5  10   12   1    3    0   3   \n",
       "2     3   26         7        4  12   19   0    2   2    4   3    5    1   4   \n",
       "3     4   27         7        6   8   20   0    3  11   13   1    5    0   4   \n",
       "4     5   28         5        9   8   19   4   10   8    8   4    4    0   2   \n",
       "\n",
       "   W  PF.1  covid  \n",
       "0  1     0      0  \n",
       "1  1     0      0  \n",
       "2  1     0      0  \n",
       "3  1     0      0  \n",
       "4  0     0      0  "
      ]
     },
     "execution_count": 84,
     "metadata": {},
     "output_type": "execute_result"
    }
   ],
   "source": [
    "#train set would be Playoff status is 0\n",
    "#test set would be Playoff status is 1\n",
    "lin_train =lin.loc[lin['PF.1'] == 0]\n",
    "lin_test = lin.loc[lin['PF.1']==1]\n",
    "lin_train.head()"
   ]
  },
  {
   "cell_type": "code",
   "execution_count": 85,
   "metadata": {},
   "outputs": [],
   "source": [
    "\n",
    "import numpy as np\n",
    "\n",
    "labels_train = np.array(lin_train['W'])\n",
    "labels_test = np.array(lin_test['W'])\n",
    "\n",
    "features_train= np.array(lin_train.drop('W', axis = 1))\n",
    "features_test = np.array(lin_test.drop('W',axis=1))\n"
   ]
  },
  {
   "cell_type": "code",
   "execution_count": 93,
   "metadata": {},
   "outputs": [
    {
     "data": {
      "text/plain": [
       "RandomForestClassifier(bootstrap=True, class_weight=None, criterion='gini',\n",
       "                       max_depth=None, max_features='auto', max_leaf_nodes=None,\n",
       "                       min_impurity_decrease=0.0, min_impurity_split=None,\n",
       "                       min_samples_leaf=1, min_samples_split=2,\n",
       "                       min_weight_fraction_leaf=0.0, n_estimators=1000,\n",
       "                       n_jobs=None, oob_score=False, random_state=20, verbose=0,\n",
       "                       warm_start=False)"
      ]
     },
     "execution_count": 93,
     "metadata": {},
     "output_type": "execute_result"
    }
   ],
   "source": [
    "from sklearn.ensemble import RandomForestClassifier\n",
    "\n",
    "\n",
    "rf = RandomForestClassifier(n_estimators = 1000, random_state = 20)\n",
    "\n",
    "rf.fit(features_train, labels_train)"
   ]
  },
  {
   "cell_type": "code",
   "execution_count": 96,
   "metadata": {},
   "outputs": [
    {
     "data": {
      "text/plain": [
       "array([1, 1, 1, 1], dtype=int64)"
      ]
     },
     "execution_count": 96,
     "metadata": {},
     "output_type": "execute_result"
    }
   ],
   "source": [
    "y_pred = rf.predict(features_test)\n"
   ]
  },
  {
   "cell_type": "code",
   "execution_count": 95,
   "metadata": {},
   "outputs": [
    {
     "name": "stdout",
     "output_type": "stream",
     "text": [
      "Accuracy: 0.5\n"
     ]
    }
   ],
   "source": [
    "\n",
    "from sklearn import metrics\n",
    "\n",
    "print(\"Accuracy:\",metrics.accuracy_score(labels_test, y_pred))"
   ]
  },
  {
   "cell_type": "code",
   "execution_count": 100,
   "metadata": {},
   "outputs": [
    {
     "data": {
      "text/plain": [
       "Index(['Game', 'PTS', 'Rebound ', 'Assist ', 'FG', 'FGA', '3P', '3PA', 'FT',\n",
       "       'FTA', 'ST', 'TOV', 'BLK', 'PF', 'W', 'PF.1', 'covid'],\n",
       "      dtype='object')"
      ]
     },
     "execution_count": 100,
     "metadata": {},
     "output_type": "execute_result"
    }
   ],
   "source": [
    "lin.columns"
   ]
  },
  {
   "cell_type": "code",
   "execution_count": 103,
   "metadata": {},
   "outputs": [
    {
     "data": {
      "text/plain": [
       "ST          0.180545\n",
       "FT          0.116502\n",
       "FGA         0.088715\n",
       "Game        0.088009\n",
       "Rebound     0.084591\n",
       "FTA         0.080391\n",
       "3PA         0.057247\n",
       "TOV         0.053690\n",
       "PTS         0.052817\n",
       "PF          0.048572\n",
       "Assist      0.046576\n",
       "FG          0.034197\n",
       "BLK         0.029861\n",
       "3P          0.025956\n",
       "covid       0.012332\n",
       "PF.1        0.000000\n",
       "dtype: float64"
      ]
     },
     "execution_count": 103,
     "metadata": {},
     "output_type": "execute_result"
    }
   ],
   "source": [
    "feature_imp = pd.Series(rf.feature_importances_,index=lin.drop(['W'],axis=1).columns).sort_values(ascending=False)\n",
    "feature_imp"
   ]
  },
  {
   "cell_type": "code",
   "execution_count": 104,
   "metadata": {},
   "outputs": [
    {
     "name": "stderr",
     "output_type": "stream",
     "text": [
      "No handles with labels found to put in legend.\n"
     ]
    },
    {
     "data": {
      "image/png": "[encoded data removed]",
      "text/plain": [
       "<Figure size 432x288 with 1 Axes>"
      ]
     },
     "metadata": {
      "needs_background": "light"
     },
     "output_type": "display_data"
    }
   ],
   "source": [
    "#visualize\n",
    "import matplotlib.pyplot as plt\n",
    "import seaborn as sns\n",
    "%matplotlib inline\n",
    "sns.barplot(x=feature_imp, y=feature_imp.index)\n",
    "plt.xlabel('Feature Importance Score')\n",
    "plt.ylabel('Features')\n",
    "plt.title(\"Visualizing Important Features\")\n",
    "plt.legend()\n",
    "plt.show()"
   ]
  },
  {
   "cell_type": "code",
   "execution_count": 105,
   "metadata": {},
   "outputs": [
    {
     "name": "stderr",
     "output_type": "stream",
     "text": [
      "C:\\Users\\yinr1\\Anaconda3\\lib\\site-packages\\sklearn\\linear_model\\logistic.py:432: FutureWarning: Default solver will be changed to 'lbfgs' in 0.22. Specify a solver to silence this warning.\n",
      "  FutureWarning)\n"
     ]
    },
    {
     "data": {
      "text/plain": [
       "LogisticRegression(C=1.0, class_weight=None, dual=False, fit_intercept=True,\n",
       "                   intercept_scaling=1, l1_ratio=None, max_iter=100,\n",
       "                   multi_class='warn', n_jobs=None, penalty='l2',\n",
       "                   random_state=None, solver='warn', tol=0.0001, verbose=0,\n",
       "                   warm_start=False)"
      ]
     },
     "execution_count": 105,
     "metadata": {},
     "output_type": "execute_result"
    }
   ],
   "source": [
    "#lets try logistic regression \n",
    "from sklearn.linear_model import LogisticRegression\n",
    "from sklearn import metrics\n",
    "\n",
    "logreg = LogisticRegression()\n",
    "logreg.fit(features_train, labels_train)"
   ]
  },
  {
   "cell_type": "code",
   "execution_count": 107,
   "metadata": {},
   "outputs": [
    {
     "name": "stdout",
     "output_type": "stream",
     "text": [
      "Accuracy of logistic regression classifier on test set: 0.25\n"
     ]
    }
   ],
   "source": [
    "y_pred = logreg.predict(features_test)\n",
    "print('Accuracy of logistic regression classifier on test set: {:.2f}'.format(logreg.score(features_test, labels_test)))"
   ]
  },
  {
   "cell_type": "code",
   "execution_count": 115,
   "metadata": {},
   "outputs": [
    {
     "data": {
      "text/plain": [
       "array([1.87022821, 0.87022821, 0.75135044, 0.66728153, 0.12691537])"
      ]
     },
     "execution_count": 115,
     "metadata": {},
     "output_type": "execute_result"
    }
   ],
   "source": [
    "from sklearn.metrics import roc_auc_score\n",
    "from sklearn.metrics import roc_curve\n",
    "logit_roc_auc = roc_auc_score(labels_test, logreg.predict(features_test))\n",
    "fpr, tpr, thresholds = roc_curve(labels_test, logreg.predict_proba(features_test)[:,1])\n",
    "thresholds"
   ]
  },
  {
   "cell_type": "code",
   "execution_count": 109,
   "metadata": {},
   "outputs": [
    {
     "data": {
      "text/plain": [
       "array([1, 0, 1, 0], dtype=int64)"
      ]
     },
     "execution_count": 109,
     "metadata": {},
     "output_type": "execute_result"
    }
   ],
   "source": []
  },
  {
   "cell_type": "code",
   "execution_count": null,
   "metadata": {},
   "outputs": [],
   "source": []
  }
 ],
 "metadata": {
  "kernelspec": {
   "display_name": "Python 3",
   "language": "python",
   "name": "python3"
  },
  "language_info": {
   "codemirror_mode": {
    "name": "ipython",
    "version": 3
   },
   "file_extension": ".py",
   "mimetype": "text/x-python",
   "name": "python",
   "nbconvert_exporter": "python",
   "pygments_lexer": "ipython3",
   "version": "3.7.3"
  }
 },
 "nbformat": 4,
 "nbformat_minor": 2
}
